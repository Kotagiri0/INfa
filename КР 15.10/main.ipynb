{
 "cells": [
  {
   "metadata": {},
   "cell_type": "markdown",
   "source": [
    "# Решение задачи про автомат и двоичную запись\n",
    "\n",
    "## Условие\n",
    "Автомат обрабатывает натуральное число N по следующему алгоритму:\n",
    "1. Строится двоичная запись числа N\n",
    "2. Складываются все цифры полученной двоичной записи. В конец записи дописывается остаток от деления полученной суммы на 2\n",
    "3. Предыдущий пункт повторяется для записи с добавленной цифрой\n",
    "4. Результат переводится в десятичную систему и выводится на экран\n",
    "\n",
    "**Пример**: N = 13\n",
    "1. Двоичная запись: 1101\n",
    "2. Сумма цифр = 3, остаток 1 → 11011\n",
    "3. Сумма цифр = 4, остаток 0 → 110110\n",
    "4. Результат: 54\n",
    "\n",
    "**Вопрос**: Сколько различных чисел, меньших 50, могут появиться на экране в результате работы автомата?\n",
    "\n",
    "---\n",
    "12"
   ],
   "id": "50424a965bf636c7"
  },
  {
   "cell_type": "code",
   "id": "initial_id",
   "metadata": {
    "collapsed": true,
    "ExecuteTime": {
     "end_time": "2025-10-14T16:25:21.408540Z",
     "start_time": "2025-10-14T16:25:21.401012Z"
    }
   },
   "source": [
    "def g(n):\n",
    "    s = bin(n)[2:]\n",
    "    if s.count('1')%2 == 0:\n",
    "        s =s + '0'\n",
    "    else:\n",
    "        s =s + '1'\n",
    "    return int(s,2)\n",
    "a = set()\n",
    "for n in range(1, 1000):\n",
    "    r = g(n)\n",
    "    if(g(r)<50):\n",
    "        a.add(g(r))\n",
    "print(len(a))\n"
   ],
   "outputs": [
    {
     "name": "stdout",
     "output_type": "stream",
     "text": [
      "12\n"
     ]
    }
   ],
   "execution_count": 8
  },
  {
   "metadata": {
    "ExecuteTime": {
     "end_time": "2025-10-14T16:31:00.044361Z",
     "start_time": "2025-10-14T16:31:00.039340Z"
    }
   },
   "cell_type": "code",
   "source": [
    "def k(n, base):\n",
    "    s = ''\n",
    "    while(n>0):\n",
    "        s+=str(n%base)\n",
    "        n//=base\n",
    "    return s[::-1]\n",
    "\n",
    "\n"
   ],
   "id": "a8c2a532b11c909f",
   "outputs": [
    {
     "name": "stdout",
     "output_type": "stream",
     "text": [
      "101\n"
     ]
    }
   ],
   "execution_count": 15
  }
 ],
 "metadata": {
  "kernelspec": {
   "display_name": "Python 3",
   "language": "python",
   "name": "python3"
  },
  "language_info": {
   "codemirror_mode": {
    "name": "ipython",
    "version": 2
   },
   "file_extension": ".py",
   "mimetype": "text/x-python",
   "name": "python",
   "nbconvert_exporter": "python",
   "pygments_lexer": "ipython2",
   "version": "2.7.6"
  }
 },
 "nbformat": 4,
 "nbformat_minor": 5
}
