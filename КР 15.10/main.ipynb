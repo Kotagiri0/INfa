{
 "cells": [
  {
   "metadata": {},
   "cell_type": "markdown",
   "source": [
    "# Решение задачи про автомат и двоичную запись\n",
    "\n",
    "## Условие\n",
    "Автомат обрабатывает натуральное число N по следующему алгоритму:\n",
    "1. Строится двоичная запись числа N\n",
    "2. Складываются все цифры полученной двоичной записи. В конец записи дописывается остаток от деления полученной суммы на 2\n",
    "3. Предыдущий пункт повторяется для записи с добавленной цифрой\n",
    "4. Результат переводится в десятичную систему и выводится на экран\n",
    "\n",
    "**Пример**: N = 13\n",
    "1. Двоичная запись: 1101\n",
    "2. Сумма цифр = 3, остаток 1 → 11011\n",
    "3. Сумма цифр = 4, остаток 0 → 110110\n",
    "4. Результат: 54\n",
    "\n",
    "**Вопрос**: Сколько различных чисел, меньших 50, могут появиться на экране в результате работы автомата?\n",
    "\n",
    "---\n",
    "12"
   ],
   "id": "50424a965bf636c7"
  },
  {
   "cell_type": "code",
   "id": "initial_id",
   "metadata": {
    "collapsed": true
   },
   "source": [
    "def g(n):\n",
    "    s = bin(n)[2:]\n",
    "    if s.count('1')%2 == 0:\n",
    "        s =s + '0'\n",
    "    else:\n",
    "        s =s + '1'\n",
    "    return int(s,2)\n",
    "a = set()\n",
    "for n in range(1, 1000):\n",
    "    r = g(n)\n",
    "    if(g(r)<50):\n",
    "        a.add(g(r))\n",
    "print(len(a))\n"
   ],
   "outputs": [],
   "execution_count": null
  },
  {
   "metadata": {},
   "cell_type": "code",
   "source": [
    "def k(n, base):\n",
    "    s = ''\n",
    "    while(n>0):\n",
    "        s+=str(n%base)\n",
    "        n//=base\n",
    "    return s[::-1]\n",
    "\n",
    "def sumk(s):\n",
    "    tmp = 0\n",
    "    for i in s:\n",
    "        tmp+=int(i)\n",
    "    return tmp\n",
    "a = set()\n",
    "for n in range(11,1211):\n",
    "    s = k(n, 3)\n",
    "    if n%2 == 0:\n",
    "        s+=s[:len(s)-3:-1][::-1]\n",
    "    else:\n",
    "        s+=k(sumk(s), 3)\n",
    "    if(int(s,3) == 82):\n",
    "        print(n)\n",
    "        break\n",
    "    #a.add(int(s,3))\n",
    "\n",
    "#print(min(a))\n",
    "\n"
   ],
   "id": "a8c2a532b11c909f",
   "outputs": [],
   "execution_count": null
  },
  {
   "metadata": {},
   "cell_type": "code",
   "source": [
    "from string import ascii_lowercase, digits\n",
    "al = digits + ascii_lowercase[:13]\n",
    "\n",
    "for x in al:\n",
    "    x1 = int(f'7{x}38596',23)\n",
    "    x2 = int(f'14{x}36',23)\n",
    "    x3 = int(f'61{x}7',23)\n",
    "    sumk = x1+x2+x3\n",
    "    if sumk % 22 == 0:\n",
    "        print(sumk//22)\n",
    "        break\n"
   ],
   "id": "df6356cb9903fd11",
   "outputs": [],
   "execution_count": null
  },
  {
   "metadata": {},
   "cell_type": "code",
   "source": [
    "def k(n, base):\n",
    "    s = []\n",
    "    while(n>0):\n",
    "        s.append((n%base))\n",
    "        n//=base\n",
    "    return s\n",
    "\n",
    "\n",
    "x = 6 ** 203 + 5*6**405 - 3*6**144 + 76\n",
    "print(sum(k(x,6)))\n"
   ],
   "id": "ca9ba87e71fd3a17",
   "outputs": [],
   "execution_count": null
  },
  {
   "metadata": {
    "ExecuteTime": {
     "end_time": "2025-10-14T20:53:57.520757Z",
     "start_time": "2025-10-14T20:53:57.245921Z"
    }
   },
   "cell_type": "code",
   "source": [
    "def k(n, base):\n",
    "    s = ''\n",
    "    while(n>0):\n",
    "        s+=(str(n%base))\n",
    "        n//=base\n",
    "    return s[::-1]\n",
    "a = []\n",
    "for x in range (1,2031):\n",
    "    r = k(7**170 + 7**100 - x,7)\n",
    "    #a.append(r.count('0'))\n",
    "    if r.count('0') == 73:\n",
    "        a.append(x)\n",
    "\n",
    "\n",
    "\n",
    "print(max(a))\n",
    "\n",
    "\n"
   ],
   "id": "5dcce70608ef716b",
   "outputs": [
    {
     "name": "stdout",
     "output_type": "stream",
     "text": [
      "1715\n"
     ]
    }
   ],
   "execution_count": 40
  },
  {
   "metadata": {},
   "cell_type": "code",
   "source": "",
   "id": "cd2f57be08291dae",
   "outputs": [],
   "execution_count": null
  },
  {
   "metadata": {
    "ExecuteTime": {
     "end_time": "2025-10-15T08:41:41.267009Z",
     "start_time": "2025-10-15T08:41:41.248915Z"
    }
   },
   "cell_type": "code",
   "source": "print(32*14)",
   "id": "ffb5464faa8bc298",
   "outputs": [
    {
     "name": "stdout",
     "output_type": "stream",
     "text": [
      "448\n"
     ]
    }
   ],
   "execution_count": 2
  },
  {
   "metadata": {
    "ExecuteTime": {
     "end_time": "2025-10-15T08:50:48.673373Z",
     "start_time": "2025-10-15T08:50:48.667370Z"
    }
   },
   "cell_type": "code",
   "source": [
    "for osn in range(5, 20):\n",
    "    n = int('32', osn)*int('14', osn)\n",
    "    s = ''\n",
    "    while n > 0:\n",
    "        s = str(n % osn) + s\n",
    "        n //= osn\n",
    "    if(s[:len(s)-2:-1] == '2'):\n",
    "        print(s, osn)\n",
    "print(int('35', 6))"
   ],
   "id": "5e158b9216a7ce9d",
   "outputs": [
    {
     "name": "stdout",
     "output_type": "stream",
     "text": [
      "532 6\n",
      "23\n"
     ]
    }
   ],
   "execution_count": 7
  },
  {
   "metadata": {
    "ExecuteTime": {
     "end_time": "2025-10-15T09:07:40.258908Z",
     "start_time": "2025-10-15T09:07:40.220365Z"
    }
   },
   "cell_type": "code",
   "source": [
    "f = open(\"17_6752.txt\")\n",
    "tmp = 0\n",
    "for s in f:\n",
    "    a = list(map(int, s.split()))\n",
    "    b = set()\n",
    "    c = 0\n",
    "    d = 0\n",
    "    for x in a:\n",
    "        b.add(x)\n",
    "    tmp1 = 0\n",
    "    tmp2 = 0\n",
    "    for i in b:\n",
    "        if a.count(i) == 1:\n",
    "            tmp1+=1\n",
    "            c+=i\n",
    "        if a.count(i) == 2:\n",
    "            tmp2+=1\n",
    "            d+=i\n",
    "    if tmp1 == 4 and tmp2 == 1 and c/4 >= d:\n",
    "        tmp+=1\n",
    "print(tmp)\n",
    "\n",
    "\n",
    "\n",
    "\n",
    "\n",
    "\n"
   ],
   "id": "1d7a04e763d18faa",
   "outputs": [
    {
     "name": "stdout",
     "output_type": "stream",
     "text": [
      "0\n"
     ]
    }
   ],
   "execution_count": 15
  }
 ],
 "metadata": {
  "kernelspec": {
   "display_name": "Python 3",
   "language": "python",
   "name": "python3"
  },
  "language_info": {
   "codemirror_mode": {
    "name": "ipython",
    "version": 2
   },
   "file_extension": ".py",
   "mimetype": "text/x-python",
   "name": "python",
   "nbconvert_exporter": "python",
   "pygments_lexer": "ipython2",
   "version": "2.7.6"
  }
 },
 "nbformat": 4,
 "nbformat_minor": 5
}
